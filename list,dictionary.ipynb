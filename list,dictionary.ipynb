{
 "cells": [
  {
   "cell_type": "code",
   "execution_count": 4,
   "id": "9128b35d-8e50-44aa-91b3-1ea30d6d7f87",
   "metadata": {},
   "outputs": [],
   "source": [
    "v =[2,3,445,'rkm',23.4]"
   ]
  },
  {
   "cell_type": "code",
   "execution_count": 5,
   "id": "bea9f808-d805-4040-b3c5-65d90aaecd46",
   "metadata": {},
   "outputs": [
    {
     "data": {
      "text/plain": [
       "list"
      ]
     },
     "execution_count": 5,
     "metadata": {},
     "output_type": "execute_result"
    }
   ],
   "source": [
    "type(v)"
   ]
  },
  {
   "cell_type": "code",
   "execution_count": 6,
   "id": "86b4dd6d-992a-4f46-88a1-86ca99d439a4",
   "metadata": {},
   "outputs": [
    {
     "data": {
      "text/plain": [
       "3"
      ]
     },
     "execution_count": 6,
     "metadata": {},
     "output_type": "execute_result"
    }
   ],
   "source": [
    "v[1]"
   ]
  },
  {
   "cell_type": "code",
   "execution_count": 7,
   "id": "ddcb359d-0f75-4863-8d6d-3cef012c39b6",
   "metadata": {},
   "outputs": [
    {
     "data": {
      "text/plain": [
       "23.4"
      ]
     },
     "execution_count": 7,
     "metadata": {},
     "output_type": "execute_result"
    }
   ],
   "source": [
    "v[4]"
   ]
  },
  {
   "cell_type": "code",
   "execution_count": 1,
   "id": "782712f4-7130-4e02-8379-17109bd7586d",
   "metadata": {},
   "outputs": [],
   "source": [
    "v =[2,3,445,'rkm',23.4]"
   ]
  },
  {
   "cell_type": "code",
   "execution_count": 2,
   "id": "f85ac20f-8a87-4618-80a0-2fc22182b070",
   "metadata": {},
   "outputs": [
    {
     "data": {
      "text/plain": [
       "[2, 3, 445]"
      ]
     },
     "execution_count": 2,
     "metadata": {},
     "output_type": "execute_result"
    }
   ],
   "source": [
    "v[0:3]"
   ]
  },
  {
   "cell_type": "code",
   "execution_count": 3,
   "id": "526407d6-83b0-4feb-9dfb-b66a19d6b29f",
   "metadata": {},
   "outputs": [
    {
     "data": {
      "text/plain": [
       "[23.4, 'rkm', 445, 3, 2]"
      ]
     },
     "execution_count": 3,
     "metadata": {},
     "output_type": "execute_result"
    }
   ],
   "source": [
    "v[::-1]"
   ]
  },
  {
   "cell_type": "code",
   "execution_count": 4,
   "id": "20571a94-d32d-4333-a635-73db8db5df98",
   "metadata": {},
   "outputs": [],
   "source": [
    "b=\"ritikh\""
   ]
  },
  {
   "cell_type": "code",
   "execution_count": 5,
   "id": "2719394b-ee50-450a-a494-b167a030a1e0",
   "metadata": {},
   "outputs": [
    {
     "ename": "TypeError",
     "evalue": "can only concatenate list (not \"str\") to list",
     "output_type": "error",
     "traceback": [
      "\u001b[0;31m---------------------------------------------------------------------------\u001b[0m",
      "\u001b[0;31mTypeError\u001b[0m                                 Traceback (most recent call last)",
      "Cell \u001b[0;32mIn[5], line 1\u001b[0m\n\u001b[0;32m----> 1\u001b[0m \u001b[43mv\u001b[49m\u001b[38;5;241;43m+\u001b[39;49m\u001b[43mb\u001b[49m\n",
      "\u001b[0;31mTypeError\u001b[0m: can only concatenate list (not \"str\") to list"
     ]
    }
   ],
   "source": [
    "v+b"
   ]
  },
  {
   "cell_type": "code",
   "execution_count": 6,
   "id": "eb33d950-98e6-45d5-8f31-875b8ff3b747",
   "metadata": {},
   "outputs": [],
   "source": [
    "c=[5,4,4,4,4]"
   ]
  },
  {
   "cell_type": "code",
   "execution_count": 7,
   "id": "95ad6df8-b19f-420c-90dd-2e076f61ce2d",
   "metadata": {},
   "outputs": [
    {
     "data": {
      "text/plain": [
       "[2, 3, 445, 'rkm', 23.4, 5, 4, 4, 4, 4]"
      ]
     },
     "execution_count": 7,
     "metadata": {},
     "output_type": "execute_result"
    }
   ],
   "source": [
    "v+c"
   ]
  },
  {
   "cell_type": "code",
   "execution_count": 8,
   "id": "89e75513-0660-4318-8b2b-4c02089e3a60",
   "metadata": {},
   "outputs": [
    {
     "data": {
      "text/plain": [
       "'rkm'"
      ]
     },
     "execution_count": 8,
     "metadata": {},
     "output_type": "execute_result"
    }
   ],
   "source": [
    "v[3]"
   ]
  },
  {
   "cell_type": "code",
   "execution_count": 10,
   "id": "729c91e7-ceac-4dd8-8d0d-b2625b398f30",
   "metadata": {},
   "outputs": [
    {
     "ename": "SyntaxError",
     "evalue": "invalid syntax (803332340.py, line 1)",
     "output_type": "error",
     "traceback": [
      "\u001b[0;36m  Cell \u001b[0;32mIn[10], line 1\u001b[0;36m\u001b[0m\n\u001b[0;31m    v[3][[0:1]\u001b[0m\n\u001b[0m           ^\u001b[0m\n\u001b[0;31mSyntaxError\u001b[0m\u001b[0;31m:\u001b[0m invalid syntax\n"
     ]
    }
   ],
   "source": [
    "v[3][[0:1]"
   ]
  },
  {
   "cell_type": "code",
   "execution_count": 11,
   "id": "87ecf85f-81c4-4bfa-8ced-3808101504fa",
   "metadata": {},
   "outputs": [],
   "source": [
    "l=['true','false','lodu']"
   ]
  },
  {
   "cell_type": "code",
   "execution_count": 13,
   "id": "9530dd6e-bf6c-4043-a51f-6b9de4bbc25f",
   "metadata": {},
   "outputs": [
    {
     "data": {
      "text/plain": [
       "list"
      ]
     },
     "execution_count": 13,
     "metadata": {},
     "output_type": "execute_result"
    }
   ],
   "source": [
    "type(l)"
   ]
  },
  {
   "cell_type": "code",
   "execution_count": 14,
   "id": "e5ae9e0d-a267-48d9-8d95-cd35133778ee",
   "metadata": {},
   "outputs": [
    {
     "data": {
      "text/plain": [
       "'true'"
      ]
     },
     "execution_count": 14,
     "metadata": {},
     "output_type": "execute_result"
    }
   ],
   "source": [
    "l[0]"
   ]
  },
  {
   "cell_type": "code",
   "execution_count": 15,
   "id": "c0f3021d-92e4-4f60-9474-7e014fdf15e5",
   "metadata": {},
   "outputs": [
    {
     "data": {
      "text/plain": [
       "'tr'"
      ]
     },
     "execution_count": 15,
     "metadata": {},
     "output_type": "execute_result"
    }
   ],
   "source": [
    "l[0][0:2]"
   ]
  },
  {
   "cell_type": "code",
   "execution_count": 16,
   "id": "2e734423-bcf6-45af-a59c-1662014afe70",
   "metadata": {},
   "outputs": [
    {
     "data": {
      "text/plain": [
       "['true', 'false', 'lodu', 2, 3, 445, 'rkm', 23.4]"
      ]
     },
     "execution_count": 16,
     "metadata": {},
     "output_type": "execute_result"
    }
   ],
   "source": [
    "l+v"
   ]
  },
  {
   "cell_type": "code",
   "execution_count": 17,
   "id": "fd214668-22b7-4ddb-8379-4af19255f1a5",
   "metadata": {},
   "outputs": [
    {
     "ename": "TypeError",
     "evalue": "list.count() takes exactly one argument (0 given)",
     "output_type": "error",
     "traceback": [
      "\u001b[0;31m---------------------------------------------------------------------------\u001b[0m",
      "\u001b[0;31mTypeError\u001b[0m                                 Traceback (most recent call last)",
      "Cell \u001b[0;32mIn[17], line 1\u001b[0m\n\u001b[0;32m----> 1\u001b[0m \u001b[43ml\u001b[49m\u001b[38;5;241;43m.\u001b[39;49m\u001b[43mcount\u001b[49m\u001b[43m(\u001b[49m\u001b[43m)\u001b[49m\n",
      "\u001b[0;31mTypeError\u001b[0m: list.count() takes exactly one argument (0 given)"
     ]
    }
   ],
   "source": [
    "l.count()"
   ]
  },
  {
   "cell_type": "code",
   "execution_count": 18,
   "id": "b8a46084-4d52-4a4a-b2d7-dd969ba4fa90",
   "metadata": {},
   "outputs": [
    {
     "ename": "NameError",
     "evalue": "name 'count' is not defined",
     "output_type": "error",
     "traceback": [
      "\u001b[0;31m---------------------------------------------------------------------------\u001b[0m",
      "\u001b[0;31mNameError\u001b[0m                                 Traceback (most recent call last)",
      "Cell \u001b[0;32mIn[18], line 1\u001b[0m\n\u001b[0;32m----> 1\u001b[0m \u001b[43mcount\u001b[49m(l)\n",
      "\u001b[0;31mNameError\u001b[0m: name 'count' is not defined"
     ]
    }
   ],
   "source": [
    "count(l)"
   ]
  },
  {
   "cell_type": "code",
   "execution_count": 19,
   "id": "28c1b5c7-1a71-4ac0-9355-f40e099fb7de",
   "metadata": {},
   "outputs": [
    {
     "data": {
      "text/plain": [
       "<function list.count(value, /)>"
      ]
     },
     "execution_count": 19,
     "metadata": {},
     "output_type": "execute_result"
    }
   ],
   "source": [
    "l.count"
   ]
  },
  {
   "cell_type": "code",
   "execution_count": 7,
   "id": "6f09fd6d-7778-4ed7-9484-498537e9f754",
   "metadata": {},
   "outputs": [],
   "source": [
    "r=[2,'aditya','muskan','kohli',7.88]"
   ]
  },
  {
   "cell_type": "code",
   "execution_count": 8,
   "id": "2111de80-22ec-4d56-be63-5a450dfec863",
   "metadata": {},
   "outputs": [
    {
     "data": {
      "text/plain": [
       "5"
      ]
     },
     "execution_count": 8,
     "metadata": {},
     "output_type": "execute_result"
    }
   ],
   "source": [
    "len(r)"
   ]
  },
  {
   "cell_type": "code",
   "execution_count": 9,
   "id": "7eba4107-528c-42a4-9a84-378e66a5bda5",
   "metadata": {},
   "outputs": [],
   "source": [
    "r.append('true')"
   ]
  },
  {
   "cell_type": "code",
   "execution_count": 10,
   "id": "c29d67b4-36a1-4b20-8d6f-3dc901fa5946",
   "metadata": {},
   "outputs": [
    {
     "data": {
      "text/plain": [
       "[2, 'aditya', 'muskan', 'kohli', 7.88, 'true']"
      ]
     },
     "execution_count": 10,
     "metadata": {},
     "output_type": "execute_result"
    }
   ],
   "source": [
    "r"
   ]
  },
  {
   "cell_type": "code",
   "execution_count": 11,
   "id": "148bf874-8e7b-4c8e-9da5-f4cf23dfa858",
   "metadata": {},
   "outputs": [
    {
     "data": {
      "text/plain": [
       "[2, 'aditya', 'muskan', 'kohli', 7.88, 'true']"
      ]
     },
     "execution_count": 11,
     "metadata": {},
     "output_type": "execute_result"
    }
   ],
   "source": [
    "r.copy()"
   ]
  },
  {
   "cell_type": "raw",
   "id": "c6d3c649-806a-4ae5-8fa9-78f65a567e3f",
   "metadata": {},
   "source": []
  },
  {
   "cell_type": "code",
   "execution_count": 15,
   "id": "9b41c147-7aa8-4c93-8e7c-edd7ae0afec6",
   "metadata": {},
   "outputs": [
    {
     "data": {
      "text/plain": [
       "1"
      ]
     },
     "execution_count": 15,
     "metadata": {},
     "output_type": "execute_result"
    }
   ],
   "source": [
    "r.count('true')"
   ]
  },
  {
   "cell_type": "code",
   "execution_count": 1,
   "id": "42ec9766-b68a-4d63-b304-0dccf9e974d5",
   "metadata": {},
   "outputs": [],
   "source": [
    "r=[2,'aditya','muskan','kohli',7.88]"
   ]
  },
  {
   "cell_type": "code",
   "execution_count": 3,
   "id": "5bdf0c43-a270-4c1c-9160-fd20cb00de5b",
   "metadata": {},
   "outputs": [],
   "source": [
    "r.reverse()"
   ]
  },
  {
   "cell_type": "raw",
   "id": "39c7dfd3-7edd-4231-81a6-9c80c08d4f7b",
   "metadata": {},
   "source": []
  },
  {
   "cell_type": "code",
   "execution_count": 4,
   "id": "d4ee3f8b-eb6b-4225-bc19-2356236ee2c2",
   "metadata": {},
   "outputs": [
    {
     "data": {
      "text/plain": [
       "[7.88, 'kohli', 'muskan', 'aditya', 2]"
      ]
     },
     "execution_count": 4,
     "metadata": {},
     "output_type": "execute_result"
    }
   ],
   "source": [
    "r"
   ]
  },
  {
   "cell_type": "code",
   "execution_count": 5,
   "id": "c7741994-a37d-406f-8ed1-db9369d87b26",
   "metadata": {},
   "outputs": [],
   "source": [
    "x=[2,5,3,7,9,44]"
   ]
  },
  {
   "cell_type": "code",
   "execution_count": 6,
   "id": "6a7d443a-1a86-4bf8-a071-a5ee626fc5ae",
   "metadata": {},
   "outputs": [],
   "source": [
    "x.sort()"
   ]
  },
  {
   "cell_type": "code",
   "execution_count": 7,
   "id": "fc737103-ed77-4bc2-8c28-4a09dcb16539",
   "metadata": {},
   "outputs": [
    {
     "data": {
      "text/plain": [
       "[2, 3, 5, 7, 9, 44]"
      ]
     },
     "execution_count": 7,
     "metadata": {},
     "output_type": "execute_result"
    }
   ],
   "source": [
    "x"
   ]
  },
  {
   "cell_type": "code",
   "execution_count": 8,
   "id": "859cdaf1-dbb4-47be-890d-59076cb8a626",
   "metadata": {},
   "outputs": [
    {
     "data": {
      "text/plain": [
       "[2, 3, 5, 7, 9, 44, 2, 3, 5, 7, 9, 44, 2, 3, 5, 7, 9, 44]"
      ]
     },
     "execution_count": 8,
     "metadata": {},
     "output_type": "execute_result"
    }
   ],
   "source": [
    "x*3"
   ]
  },
  {
   "cell_type": "code",
   "execution_count": 9,
   "id": "06a55433-5589-4783-9054-17523d8c65bd",
   "metadata": {},
   "outputs": [],
   "source": [
    "l1=[1,2,3,'fuddu',[5,4,4,8]]"
   ]
  },
  {
   "cell_type": "code",
   "execution_count": 11,
   "id": "5da814f1-a5b8-400d-ab0d-65692a173a33",
   "metadata": {},
   "outputs": [
    {
     "data": {
      "text/plain": [
       "'fuddu'"
      ]
     },
     "execution_count": 11,
     "metadata": {},
     "output_type": "execute_result"
    }
   ],
   "source": [
    "l1[3]"
   ]
  },
  {
   "cell_type": "code",
   "execution_count": 12,
   "id": "59a3e414-e597-4a31-b51f-f96c7fc6f804",
   "metadata": {},
   "outputs": [
    {
     "data": {
      "text/plain": [
       "4"
      ]
     },
     "execution_count": 12,
     "metadata": {},
     "output_type": "execute_result"
    }
   ],
   "source": [
    "l1[4][2]"
   ]
  },
  {
   "cell_type": "code",
   "execution_count": 14,
   "id": "6ed2091b-b318-476f-952a-d635160c5043",
   "metadata": {},
   "outputs": [],
   "source": [
    "l1.extend('fuddu')"
   ]
  },
  {
   "cell_type": "markdown",
   "id": "644294ea-39c0-43cc-83f8-0f200eb5b477",
   "metadata": {},
   "source": [
    "# "
   ]
  },
  {
   "cell_type": "code",
   "execution_count": 15,
   "id": "2bc457e8-ef2e-4531-8efd-09e91ae35255",
   "metadata": {},
   "outputs": [
    {
     "data": {
      "text/plain": [
       "[1, 2, 3, 'fuddu', [5, 4, 4, 8], 'f', 'u', 'd', 'd', 'u']"
      ]
     },
     "execution_count": 15,
     "metadata": {},
     "output_type": "execute_result"
    }
   ],
   "source": [
    "l1"
   ]
  },
  {
   "cell_type": "code",
   "execution_count": 16,
   "id": "5a11ed6c-df37-4e0a-92e1-0f46378eae91",
   "metadata": {},
   "outputs": [
    {
     "ename": "TypeError",
     "evalue": "list indices must be integers or slices, not tuple",
     "output_type": "error",
     "traceback": [
      "\u001b[0;31m---------------------------------------------------------------------------\u001b[0m",
      "\u001b[0;31mTypeError\u001b[0m                                 Traceback (most recent call last)",
      "Cell \u001b[0;32mIn[16], line 1\u001b[0m\n\u001b[0;32m----> 1\u001b[0m \u001b[43ml1\u001b[49m\u001b[43m[\u001b[49m\u001b[38;5;241;43m0\u001b[39;49m\u001b[43m,\u001b[49m\u001b[38;5;241;43m3\u001b[39;49m\u001b[43m]\u001b[49m\n",
      "\u001b[0;31mTypeError\u001b[0m: list indices must be integers or slices, not tuple"
     ]
    }
   ],
   "source": [
    "l1[0,3]"
   ]
  },
  {
   "cell_type": "code",
   "execution_count": 18,
   "id": "b85076d8-7b45-47ad-bc57-0e7d7e0f5a13",
   "metadata": {},
   "outputs": [],
   "source": [
    "l1.insert(2,'chutiy')"
   ]
  },
  {
   "cell_type": "code",
   "execution_count": 19,
   "id": "848b8ce8-2e03-4c52-83bd-9cf8390574bd",
   "metadata": {},
   "outputs": [
    {
     "data": {
      "text/plain": [
       "[1, 2, 'chutiy', 'chutiy', 3, 'fuddu', [5, 4, 4, 8], 'f', 'u', 'd', 'd', 'u']"
      ]
     },
     "execution_count": 19,
     "metadata": {},
     "output_type": "execute_result"
    }
   ],
   "source": [
    "l1"
   ]
  },
  {
   "cell_type": "code",
   "execution_count": 1,
   "id": "e364feec-9304-4ee6-b367-d838d3893af4",
   "metadata": {},
   "outputs": [],
   "source": [
    "l1=[1,2,3,'fuddu',[5,4,4,8]]"
   ]
  },
  {
   "cell_type": "code",
   "execution_count": 2,
   "id": "1e1204ee-faed-4ab4-b4d5-a5e2855edeab",
   "metadata": {},
   "outputs": [
    {
     "data": {
      "text/plain": [
       "2"
      ]
     },
     "execution_count": 2,
     "metadata": {},
     "output_type": "execute_result"
    }
   ],
   "source": [
    "l1.pop(1)"
   ]
  },
  {
   "cell_type": "code",
   "execution_count": 3,
   "id": "78012f1a-02b6-4fb3-9174-d2911cc42c0c",
   "metadata": {},
   "outputs": [
    {
     "data": {
      "text/plain": [
       "[1, 3, 'fuddu', [5, 4, 4, 8]]"
      ]
     },
     "execution_count": 3,
     "metadata": {},
     "output_type": "execute_result"
    }
   ],
   "source": [
    "l1"
   ]
  },
  {
   "cell_type": "code",
   "execution_count": 4,
   "id": "3787708e-be08-47b5-b855-4822d68efc1c",
   "metadata": {},
   "outputs": [
    {
     "data": {
      "text/plain": [
       "[5, 4, 4, 8]"
      ]
     },
     "execution_count": 4,
     "metadata": {},
     "output_type": "execute_result"
    }
   ],
   "source": [
    "l1.pop([3][-1])"
   ]
  },
  {
   "cell_type": "code",
   "execution_count": 5,
   "id": "cc27250f-682e-4581-9ce9-c255f0d41dac",
   "metadata": {},
   "outputs": [
    {
     "data": {
      "text/plain": [
       "[1, 3, 'fuddu']"
      ]
     },
     "execution_count": 5,
     "metadata": {},
     "output_type": "execute_result"
    }
   ],
   "source": [
    "l1"
   ]
  },
  {
   "cell_type": "code",
   "execution_count": 6,
   "id": "f1e8623b-6fe5-4f56-9514-ac13c81c4aa9",
   "metadata": {},
   "outputs": [],
   "source": [
    "l1.remove(1)"
   ]
  },
  {
   "cell_type": "code",
   "execution_count": 7,
   "id": "21a5e49a-ec82-448b-8b5c-35bcd5bbffa4",
   "metadata": {},
   "outputs": [
    {
     "data": {
      "text/plain": [
       "[3, 'fuddu']"
      ]
     },
     "execution_count": 7,
     "metadata": {},
     "output_type": "execute_result"
    }
   ],
   "source": [
    "l1"
   ]
  },
  {
   "cell_type": "code",
   "execution_count": 8,
   "id": "a1255f81-d0ad-47e2-b4cc-f0bef35a86ca",
   "metadata": {},
   "outputs": [],
   "source": [
    "l1.append('gandu')"
   ]
  },
  {
   "cell_type": "code",
   "execution_count": 9,
   "id": "ac5484c7-0cd7-4718-ae24-963fcfb14e6e",
   "metadata": {},
   "outputs": [
    {
     "data": {
      "text/plain": [
       "[3, 'fuddu', 'gandu']"
      ]
     },
     "execution_count": 9,
     "metadata": {},
     "output_type": "execute_result"
    }
   ],
   "source": [
    "l1"
   ]
  },
  {
   "cell_type": "code",
   "execution_count": 10,
   "id": "48d2b2b1-d6e2-44b1-aad9-20ec09d20836",
   "metadata": {},
   "outputs": [],
   "source": [
    "l1.append([2,3,4])"
   ]
  },
  {
   "cell_type": "code",
   "execution_count": 11,
   "id": "79c9f98d-bf3c-49db-9faf-ca2f44af403b",
   "metadata": {},
   "outputs": [
    {
     "data": {
      "text/plain": [
       "[3, 'fuddu', 'gandu', [2, 3, 4]]"
      ]
     },
     "execution_count": 11,
     "metadata": {},
     "output_type": "execute_result"
    }
   ],
   "source": [
    "l1"
   ]
  },
  {
   "cell_type": "code",
   "execution_count": 12,
   "id": "9b13bff1-1add-4a6a-9048-aee0bf212642",
   "metadata": {},
   "outputs": [
    {
     "ename": "ValueError",
     "evalue": "list.remove(x): x not in list",
     "output_type": "error",
     "traceback": [
      "\u001b[0;31m---------------------------------------------------------------------------\u001b[0m",
      "\u001b[0;31mValueError\u001b[0m                                Traceback (most recent call last)",
      "Cell \u001b[0;32mIn[12], line 1\u001b[0m\n\u001b[0;32m----> 1\u001b[0m \u001b[43ml1\u001b[49m\u001b[38;5;241;43m.\u001b[39;49m\u001b[43mremove\u001b[49m\u001b[43m(\u001b[49m\u001b[43m[\u001b[49m\u001b[43m[\u001b[49m\u001b[38;5;241;43m1\u001b[39;49m\u001b[43m]\u001b[49m\u001b[43m]\u001b[49m\u001b[43m)\u001b[49m\n",
      "\u001b[0;31mValueError\u001b[0m: list.remove(x): x not in list"
     ]
    }
   ],
   "source": [
    "l1.remove([[1]])"
   ]
  },
  {
   "cell_type": "code",
   "execution_count": 13,
   "id": "f7cc2613-a877-4a6a-bc14-fbb0b9175068",
   "metadata": {},
   "outputs": [
    {
     "ename": "IndexError",
     "evalue": "list index out of range",
     "output_type": "error",
     "traceback": [
      "\u001b[0;31m---------------------------------------------------------------------------\u001b[0m",
      "\u001b[0;31mIndexError\u001b[0m                                Traceback (most recent call last)",
      "Cell \u001b[0;32mIn[13], line 1\u001b[0m\n\u001b[0;32m----> 1\u001b[0m l1\u001b[38;5;241m.\u001b[39mremove(\u001b[43m[\u001b[49m\u001b[38;5;241;43m3\u001b[39;49m\u001b[43m]\u001b[49m\u001b[43m[\u001b[49m\u001b[38;5;241;43m1\u001b[39;49m\u001b[43m]\u001b[49m)\n",
      "\u001b[0;31mIndexError\u001b[0m: list index out of range"
     ]
    }
   ],
   "source": [
    "l1.remove([3][1])"
   ]
  },
  {
   "cell_type": "code",
   "execution_count": 14,
   "id": "512f6274-515b-492a-b95e-06c3f8186dde",
   "metadata": {},
   "outputs": [
    {
     "ename": "ValueError",
     "evalue": "list.remove(x): x not in list",
     "output_type": "error",
     "traceback": [
      "\u001b[0;31m---------------------------------------------------------------------------\u001b[0m",
      "\u001b[0;31mValueError\u001b[0m                                Traceback (most recent call last)",
      "Cell \u001b[0;32mIn[14], line 1\u001b[0m\n\u001b[0;32m----> 1\u001b[0m \u001b[43ml1\u001b[49m\u001b[43m[\u001b[49m\u001b[38;5;241;43m3\u001b[39;49m\u001b[43m]\u001b[49m\u001b[38;5;241;43m.\u001b[39;49m\u001b[43mremove\u001b[49m\u001b[43m(\u001b[49m\u001b[38;5;241;43m1\u001b[39;49m\u001b[43m)\u001b[49m\n",
      "\u001b[0;31mValueError\u001b[0m: list.remove(x): x not in list"
     ]
    }
   ],
   "source": [
    "l1[3].remove(1)"
   ]
  },
  {
   "cell_type": "code",
   "execution_count": 15,
   "id": "53ef5233-0445-41fc-a142-ba9baadd7ba0",
   "metadata": {},
   "outputs": [
    {
     "data": {
      "text/plain": [
       "[3, 'fuddu', 'gandu', [2, 3, 4]]"
      ]
     },
     "execution_count": 15,
     "metadata": {},
     "output_type": "execute_result"
    }
   ],
   "source": [
    "l1"
   ]
  },
  {
   "cell_type": "code",
   "execution_count": 16,
   "id": "88214013-b268-454b-bbe0-efb6a0795a66",
   "metadata": {},
   "outputs": [
    {
     "ename": "ValueError",
     "evalue": "list.remove(x): x not in list",
     "output_type": "error",
     "traceback": [
      "\u001b[0;31m---------------------------------------------------------------------------\u001b[0m",
      "\u001b[0;31mValueError\u001b[0m                                Traceback (most recent call last)",
      "Cell \u001b[0;32mIn[16], line 1\u001b[0m\n\u001b[0;32m----> 1\u001b[0m \u001b[43ml1\u001b[49m\u001b[43m[\u001b[49m\u001b[38;5;241;43m3\u001b[39;49m\u001b[43m]\u001b[49m\u001b[38;5;241;43m.\u001b[39;49m\u001b[43mremove\u001b[49m\u001b[43m(\u001b[49m\u001b[38;5;241;43m0\u001b[39;49m\u001b[43m)\u001b[49m\n",
      "\u001b[0;31mValueError\u001b[0m: list.remove(x): x not in list"
     ]
    }
   ],
   "source": [
    "l1[3].remove(0)"
   ]
  },
  {
   "cell_type": "code",
   "execution_count": 17,
   "id": "022e44f5-baad-4ba2-929f-6f7724823917",
   "metadata": {},
   "outputs": [],
   "source": [
    "f=[2,3,'fuddu']"
   ]
  },
  {
   "cell_type": "code",
   "execution_count": 18,
   "id": "c21f20d1-2aef-430f-9a0a-fe642caae151",
   "metadata": {},
   "outputs": [
    {
     "data": {
      "text/plain": [
       "''"
      ]
     },
     "execution_count": 18,
     "metadata": {},
     "output_type": "execute_result"
    }
   ],
   "source": [
    "f[2][-1:-2]"
   ]
  },
  {
   "cell_type": "code",
   "execution_count": 21,
   "id": "36d47cae-ecd7-4bb5-ab30-93391084233d",
   "metadata": {},
   "outputs": [],
   "source": [
    "f.extend('fuddu')"
   ]
  },
  {
   "cell_type": "code",
   "execution_count": 22,
   "id": "33c683f9-d2d2-47d9-9acc-0ef097a2ddc6",
   "metadata": {},
   "outputs": [
    {
     "data": {
      "text/plain": [
       "[2, 3, 'fuddu', 'f', 'u', 'd', 'd', 'u', 'f', 'u', 'd', 'd', 'u']"
      ]
     },
     "execution_count": 22,
     "metadata": {},
     "output_type": "execute_result"
    }
   ],
   "source": [
    "f"
   ]
  },
  {
   "cell_type": "code",
   "execution_count": 24,
   "id": "613ccfc7-afe0-461e-a6d8-07bf42e27454",
   "metadata": {},
   "outputs": [],
   "source": [
    "f.remove('f')"
   ]
  },
  {
   "cell_type": "code",
   "execution_count": 25,
   "id": "12cbc6a1-6a64-4d5c-89f8-cfcd6c5076f9",
   "metadata": {},
   "outputs": [
    {
     "data": {
      "text/plain": [
       "[2, 3, 'fuddu', 'u', 'd', 'd', 'u', 'f', 'u', 'd', 'd', 'u']"
      ]
     },
     "execution_count": 25,
     "metadata": {},
     "output_type": "execute_result"
    }
   ],
   "source": [
    "f"
   ]
  },
  {
   "cell_type": "code",
   "execution_count": 26,
   "id": "8f912e69-917e-47ae-aa85-0d464ac84e7a",
   "metadata": {},
   "outputs": [],
   "source": [
    "g=[2,4,'chutiya']"
   ]
  },
  {
   "cell_type": "code",
   "execution_count": 27,
   "id": "39b132ed-5531-4418-86ff-006b6ab78835",
   "metadata": {},
   "outputs": [
    {
     "data": {
      "text/plain": [
       "[2, 4, 'chutiya']"
      ]
     },
     "execution_count": 27,
     "metadata": {},
     "output_type": "execute_result"
    }
   ],
   "source": [
    "g"
   ]
  },
  {
   "cell_type": "code",
   "execution_count": 28,
   "id": "98cf6f6c-fb36-4664-b314-b9e4f31c2eba",
   "metadata": {},
   "outputs": [],
   "source": [
    "g.extend('chutiya')"
   ]
  },
  {
   "cell_type": "code",
   "execution_count": 29,
   "id": "4818ec98-cf3a-4793-982d-b6f73a950cb0",
   "metadata": {},
   "outputs": [
    {
     "data": {
      "text/plain": [
       "[2, 4, 'chutiya', 'c', 'h', 'u', 't', 'i', 'y', 'a']"
      ]
     },
     "execution_count": 29,
     "metadata": {},
     "output_type": "execute_result"
    }
   ],
   "source": [
    "g"
   ]
  },
  {
   "cell_type": "code",
   "execution_count": 30,
   "id": "6d403b1d-87bf-490a-835e-b479083bc131",
   "metadata": {},
   "outputs": [
    {
     "data": {
      "text/plain": [
       "'a'"
      ]
     },
     "execution_count": 30,
     "metadata": {},
     "output_type": "execute_result"
    }
   ],
   "source": [
    "g.pop()"
   ]
  },
  {
   "cell_type": "code",
   "execution_count": 31,
   "id": "6ed7c48a-acd3-468a-95bc-5646154e595f",
   "metadata": {},
   "outputs": [
    {
     "data": {
      "text/plain": [
       "'y'"
      ]
     },
     "execution_count": 31,
     "metadata": {},
     "output_type": "execute_result"
    }
   ],
   "source": [
    "g.pop()"
   ]
  },
  {
   "cell_type": "code",
   "execution_count": 32,
   "id": "105c7725-e106-402e-94f6-abdb1387e6b8",
   "metadata": {},
   "outputs": [
    {
     "data": {
      "text/plain": [
       "[2, 4, 'chutiya', 'c', 'h', 'u', 't', 'i']"
      ]
     },
     "execution_count": 32,
     "metadata": {},
     "output_type": "execute_result"
    }
   ],
   "source": [
    "g"
   ]
  },
  {
   "cell_type": "code",
   "execution_count": 33,
   "id": "4ddf1ffd-5ced-4d6c-aee6-8938d80d4e17",
   "metadata": {},
   "outputs": [],
   "source": [
    "d=[54,45,56,65]"
   ]
  },
  {
   "cell_type": "code",
   "execution_count": 34,
   "id": "df14ae1c-5388-4447-a092-508bfe9c8ca9",
   "metadata": {},
   "outputs": [],
   "source": [
    "d.sort()"
   ]
  },
  {
   "cell_type": "code",
   "execution_count": 35,
   "id": "1f2ee225-ea76-4ff9-ad63-1d8e6af07da9",
   "metadata": {},
   "outputs": [
    {
     "data": {
      "text/plain": [
       "[45, 54, 56, 65]"
      ]
     },
     "execution_count": 35,
     "metadata": {},
     "output_type": "execute_result"
    }
   ],
   "source": [
    "d"
   ]
  },
  {
   "cell_type": "code",
   "execution_count": 37,
   "id": "91ac1ab0-4996-46dd-8192-b66fbe914892",
   "metadata": {},
   "outputs": [],
   "source": [
    "d.sort(reverse=True)"
   ]
  },
  {
   "cell_type": "code",
   "execution_count": 39,
   "id": "b925f8e8-79b5-426e-b536-5d3d08b16686",
   "metadata": {},
   "outputs": [
    {
     "data": {
      "text/plain": [
       "[65, 56, 54, 45]"
      ]
     },
     "execution_count": 39,
     "metadata": {},
     "output_type": "execute_result"
    }
   ],
   "source": [
    "d"
   ]
  },
  {
   "cell_type": "code",
   "execution_count": 1,
   "id": "3077e009-7447-43a5-a3c3-bf065a3bc3e3",
   "metadata": {},
   "outputs": [],
   "source": [
    "s='sudh'"
   ]
  },
  {
   "cell_type": "code",
   "execution_count": 2,
   "id": "bce09700-8232-4ad4-b734-6b125a682468",
   "metadata": {},
   "outputs": [
    {
     "ename": "TypeError",
     "evalue": "'str' object does not support item assignment",
     "output_type": "error",
     "traceback": [
      "\u001b[0;31m---------------------------------------------------------------------------\u001b[0m",
      "\u001b[0;31mTypeError\u001b[0m                                 Traceback (most recent call last)",
      "Cell \u001b[0;32mIn[2], line 1\u001b[0m\n\u001b[0;32m----> 1\u001b[0m \u001b[43ms\u001b[49m\u001b[43m[\u001b[49m\u001b[38;5;241;43m0\u001b[39;49m\u001b[43m]\u001b[49m\u001b[38;5;241m=\u001b[39m\u001b[38;5;124m'\u001b[39m\u001b[38;5;124ma\u001b[39m\u001b[38;5;124m'\u001b[39m\n",
      "\u001b[0;31mTypeError\u001b[0m: 'str' object does not support item assignment"
     ]
    }
   ],
   "source": [
    "s[0]='a'"
   ]
  },
  {
   "cell_type": "code",
   "execution_count": 3,
   "id": "ec84db5f-2957-4242-80c1-0c2ed2be5073",
   "metadata": {},
   "outputs": [
    {
     "ename": "AttributeError",
     "evalue": "'str' object has no attribute 'insert'",
     "output_type": "error",
     "traceback": [
      "\u001b[0;31m---------------------------------------------------------------------------\u001b[0m",
      "\u001b[0;31mAttributeError\u001b[0m                            Traceback (most recent call last)",
      "Cell \u001b[0;32mIn[3], line 1\u001b[0m\n\u001b[0;32m----> 1\u001b[0m \u001b[43ms\u001b[49m\u001b[38;5;241;43m.\u001b[39;49m\u001b[43minsert\u001b[49m(\u001b[38;5;241m0\u001b[39m,\u001b[38;5;124m'\u001b[39m\u001b[38;5;124ma\u001b[39m\u001b[38;5;124m'\u001b[39m)\n",
      "\u001b[0;31mAttributeError\u001b[0m: 'str' object has no attribute 'insert'"
     ]
    }
   ],
   "source": [
    "s.insert(0,'a')"
   ]
  },
  {
   "cell_type": "code",
   "execution_count": 4,
   "id": "27d49eed-e109-44c3-bf06-0b704cde69ea",
   "metadata": {},
   "outputs": [],
   "source": [
    "l1=[2,3,4,5]"
   ]
  },
  {
   "cell_type": "code",
   "execution_count": 5,
   "id": "c7189251-98ad-46a3-aba4-e2edd4cd9bd9",
   "metadata": {},
   "outputs": [],
   "source": [
    "l1[0]=1"
   ]
  },
  {
   "cell_type": "code",
   "execution_count": 6,
   "id": "c94392b1-da07-476e-a645-6325206a9702",
   "metadata": {},
   "outputs": [
    {
     "data": {
      "text/plain": [
       "[1, 3, 4, 5]"
      ]
     },
     "execution_count": 6,
     "metadata": {},
     "output_type": "execute_result"
    }
   ],
   "source": [
    "l1"
   ]
  },
  {
   "cell_type": "code",
   "execution_count": 7,
   "id": "91d26690-9fc6-4f40-af4b-4d9d749fc4f7",
   "metadata": {},
   "outputs": [
    {
     "data": {
      "text/plain": [
       "[1, 3, 4, 5]"
      ]
     },
     "execution_count": 7,
     "metadata": {},
     "output_type": "execute_result"
    }
   ],
   "source": [
    "l1"
   ]
  },
  {
   "cell_type": "code",
   "execution_count": 8,
   "id": "39a7dbc5-c6b5-4392-a5d8-7363f8ad8916",
   "metadata": {},
   "outputs": [],
   "source": [
    "s='sudh'"
   ]
  },
  {
   "cell_type": "code",
   "execution_count": 11,
   "id": "739e2822-22f4-45bc-ad51-1fa57a124df5",
   "metadata": {},
   "outputs": [],
   "source": [
    "m=s.replace('s','c')"
   ]
  },
  {
   "cell_type": "code",
   "execution_count": 12,
   "id": "b2d5897d-694d-49f9-933b-c5b3734a1b0a",
   "metadata": {},
   "outputs": [
    {
     "data": {
      "text/plain": [
       "'cudh'"
      ]
     },
     "execution_count": 12,
     "metadata": {},
     "output_type": "execute_result"
    }
   ],
   "source": [
    "m"
   ]
  },
  {
   "cell_type": "code",
   "execution_count": 13,
   "id": "cc39fcf2-54a1-45d0-802e-474bdc490ed4",
   "metadata": {},
   "outputs": [
    {
     "data": {
      "text/plain": [
       "'sudh'"
      ]
     },
     "execution_count": 13,
     "metadata": {},
     "output_type": "execute_result"
    }
   ],
   "source": [
    "s"
   ]
  },
  {
   "cell_type": "code",
   "execution_count": 14,
   "id": "a9bce315-90c1-4960-918c-dc2ab01f8433",
   "metadata": {},
   "outputs": [],
   "source": [
    "t=(2,6,'chutiya','gandu')"
   ]
  },
  {
   "cell_type": "code",
   "execution_count": 15,
   "id": "96abe83d-3e90-47a2-a704-09ec8d73e11f",
   "metadata": {},
   "outputs": [
    {
     "data": {
      "text/plain": [
       "tuple"
      ]
     },
     "execution_count": 15,
     "metadata": {},
     "output_type": "execute_result"
    }
   ],
   "source": [
    "type(t)"
   ]
  },
  {
   "cell_type": "code",
   "execution_count": 19,
   "id": "97718789-9c03-412b-a7f8-24b6a7a21618",
   "metadata": {},
   "outputs": [
    {
     "ename": "AttributeError",
     "evalue": "'str' object has no attribute 'remove'",
     "output_type": "error",
     "traceback": [
      "\u001b[0;31m---------------------------------------------------------------------------\u001b[0m",
      "\u001b[0;31mAttributeError\u001b[0m                            Traceback (most recent call last)",
      "Cell \u001b[0;32mIn[19], line 1\u001b[0m\n\u001b[0;32m----> 1\u001b[0m \u001b[43mt\u001b[49m\u001b[43m[\u001b[49m\u001b[38;5;241;43m2\u001b[39;49m\u001b[43m]\u001b[49m\u001b[38;5;241;43m.\u001b[39;49m\u001b[43mremove\u001b[49m(\u001b[38;5;124m'\u001b[39m\u001b[38;5;124mc\u001b[39m\u001b[38;5;124m'\u001b[39m)\n",
      "\u001b[0;31mAttributeError\u001b[0m: 'str' object has no attribute 'remove'"
     ]
    }
   ],
   "source": [
    "t[2].remove('c')"
   ]
  },
  {
   "cell_type": "code",
   "execution_count": 20,
   "id": "1222803f-ce05-4bf0-b2fc-bc90bc41386e",
   "metadata": {},
   "outputs": [],
   "source": [
    "j=t[2]"
   ]
  },
  {
   "cell_type": "code",
   "execution_count": 21,
   "id": "7a92ef12-5088-4b92-b945-c0788899f9ab",
   "metadata": {},
   "outputs": [
    {
     "data": {
      "text/plain": [
       "'chutiya'"
      ]
     },
     "execution_count": 21,
     "metadata": {},
     "output_type": "execute_result"
    }
   ],
   "source": [
    "j"
   ]
  },
  {
   "cell_type": "code",
   "execution_count": 1,
   "id": "33759c0d-31b7-40b8-88e2-d598c4b078a0",
   "metadata": {},
   "outputs": [
    {
     "ename": "NameError",
     "evalue": "name 'd' is not defined",
     "output_type": "error",
     "traceback": [
      "\u001b[0;31m---------------------------------------------------------------------------\u001b[0m",
      "\u001b[0;31mNameError\u001b[0m                                 Traceback (most recent call last)",
      "Cell \u001b[0;32mIn[1], line 1\u001b[0m\n\u001b[0;32m----> 1\u001b[0m \u001b[43md\u001b[49m\n",
      "\u001b[0;31mNameError\u001b[0m: name 'd' is not defined"
     ]
    }
   ],
   "source": [
    "d"
   ]
  },
  {
   "cell_type": "code",
   "execution_count": 2,
   "id": "c115d319-88ac-485a-ac1e-bf39ac1af991",
   "metadata": {},
   "outputs": [],
   "source": [
    "d=[54,45,56,65]"
   ]
  },
  {
   "cell_type": "code",
   "execution_count": 3,
   "id": "7bc785f7-5afb-49db-8539-2cf80c7a5f5d",
   "metadata": {},
   "outputs": [],
   "source": [
    "d[0]='ch'"
   ]
  },
  {
   "cell_type": "code",
   "execution_count": 4,
   "id": "9667abfe-4ff5-4218-8ee8-9d28a54d5793",
   "metadata": {},
   "outputs": [
    {
     "data": {
      "text/plain": [
       "['ch', 45, 56, 65]"
      ]
     },
     "execution_count": 4,
     "metadata": {},
     "output_type": "execute_result"
    }
   ],
   "source": [
    "d"
   ]
  },
  {
   "cell_type": "code",
   "execution_count": 5,
   "id": "7dbe3e09-998a-4c32-ae84-f2867bb53806",
   "metadata": {},
   "outputs": [],
   "source": [
    "t=(2,6,'chutiya','gandu')"
   ]
  },
  {
   "cell_type": "code",
   "execution_count": 6,
   "id": "bbe4e199-bfe5-4fb9-ac86-36674e0bf2c5",
   "metadata": {},
   "outputs": [
    {
     "ename": "TypeError",
     "evalue": "'tuple' object does not support item assignment",
     "output_type": "error",
     "traceback": [
      "\u001b[0;31m---------------------------------------------------------------------------\u001b[0m",
      "\u001b[0;31mTypeError\u001b[0m                                 Traceback (most recent call last)",
      "Cell \u001b[0;32mIn[6], line 1\u001b[0m\n\u001b[0;32m----> 1\u001b[0m \u001b[43mt\u001b[49m\u001b[43m[\u001b[49m\u001b[38;5;241;43m0\u001b[39;49m\u001b[43m]\u001b[49m\u001b[38;5;241m=\u001b[39m\u001b[38;5;241m9\u001b[39m\n",
      "\u001b[0;31mTypeError\u001b[0m: 'tuple' object does not support item assignment"
     ]
    }
   ],
   "source": [
    "t[0]=9"
   ]
  },
  {
   "cell_type": "code",
   "execution_count": 7,
   "id": "02bbbdba-69d9-4d4a-b002-7dd612bf2e14",
   "metadata": {},
   "outputs": [],
   "source": [
    "t=(2,6,'chutiya','gandu')"
   ]
  },
  {
   "cell_type": "code",
   "execution_count": 8,
   "id": "3e3a8793-bca2-49ad-82b0-4f5dea6c4c55",
   "metadata": {},
   "outputs": [
    {
     "data": {
      "text/plain": [
       "1"
      ]
     },
     "execution_count": 8,
     "metadata": {},
     "output_type": "execute_result"
    }
   ],
   "source": [
    "t.count(6)"
   ]
  },
  {
   "cell_type": "code",
   "execution_count": 11,
   "id": "d64827a9-0498-4792-9de7-266421782e5e",
   "metadata": {},
   "outputs": [
    {
     "data": {
      "text/plain": [
       "1"
      ]
     },
     "execution_count": 11,
     "metadata": {},
     "output_type": "execute_result"
    }
   ],
   "source": [
    "t.index(6)"
   ]
  },
  {
   "cell_type": "code",
   "execution_count": 12,
   "id": "f7290d67-450c-43dd-a1b5-b0341ef2ae18",
   "metadata": {},
   "outputs": [],
   "source": [
    "d=[54,45,56,65]"
   ]
  },
  {
   "cell_type": "code",
   "execution_count": 13,
   "id": "e3aef4a6-1ad5-48e3-8f50-0f73a2ac0334",
   "metadata": {},
   "outputs": [
    {
     "data": {
      "text/plain": [
       "[65, 56, 45, 54]"
      ]
     },
     "execution_count": 13,
     "metadata": {},
     "output_type": "execute_result"
    }
   ],
   "source": [
    "d[::-1]"
   ]
  },
  {
   "cell_type": "code",
   "execution_count": 14,
   "id": "f69894e6-1304-4b44-b532-9c630e867c5f",
   "metadata": {},
   "outputs": [
    {
     "data": {
      "text/plain": [
       "[54, 45, 56, 65]"
      ]
     },
     "execution_count": 14,
     "metadata": {},
     "output_type": "execute_result"
    }
   ],
   "source": [
    "d"
   ]
  },
  {
   "cell_type": "code",
   "execution_count": 15,
   "id": "e4618275-81c6-483a-8bc7-aaebb08b73d1",
   "metadata": {},
   "outputs": [],
   "source": [
    "#set"
   ]
  },
  {
   "cell_type": "code",
   "execution_count": 17,
   "id": "7f04ac1a-6726-4c82-938c-828168050a1c",
   "metadata": {},
   "outputs": [],
   "source": [
    "s1={}"
   ]
  },
  {
   "cell_type": "code",
   "execution_count": 18,
   "id": "8bf15913-c2aa-4d0a-b9e7-113232b720ac",
   "metadata": {},
   "outputs": [
    {
     "data": {
      "text/plain": [
       "dict"
      ]
     },
     "execution_count": 18,
     "metadata": {},
     "output_type": "execute_result"
    }
   ],
   "source": [
    "type(s1)"
   ]
  },
  {
   "cell_type": "code",
   "execution_count": 19,
   "id": "ce7bccfd-1a2f-4fa0-8377-bb57d13cefcc",
   "metadata": {},
   "outputs": [],
   "source": [
    "s2={2,3,4,5,6}"
   ]
  },
  {
   "cell_type": "code",
   "execution_count": 20,
   "id": "d8f4b6bd-2073-4bcb-9c9b-6160d0551d63",
   "metadata": {},
   "outputs": [
    {
     "data": {
      "text/plain": [
       "set"
      ]
     },
     "execution_count": 20,
     "metadata": {},
     "output_type": "execute_result"
    }
   ],
   "source": [
    "type(s2)"
   ]
  },
  {
   "cell_type": "code",
   "execution_count": 21,
   "id": "5ac2a84e-0dd8-4911-9221-6cdc63a56904",
   "metadata": {},
   "outputs": [],
   "source": [
    "s3={1}"
   ]
  },
  {
   "cell_type": "code",
   "execution_count": 22,
   "id": "94ba4f34-9af0-46a9-8a00-64d08bd8c694",
   "metadata": {},
   "outputs": [
    {
     "data": {
      "text/plain": [
       "set"
      ]
     },
     "execution_count": 22,
     "metadata": {},
     "output_type": "execute_result"
    }
   ],
   "source": [
    "type(s3)"
   ]
  },
  {
   "cell_type": "code",
   "execution_count": 23,
   "id": "ff35b4fd-1a1a-4aaf-a2e5-6e5229ffc777",
   "metadata": {},
   "outputs": [],
   "source": [
    "s4={2,3,4,4,4,7,8,8,5,0,8,5,3}"
   ]
  },
  {
   "cell_type": "code",
   "execution_count": 24,
   "id": "2761047a-ee21-4591-9111-f1b41bee903f",
   "metadata": {},
   "outputs": [
    {
     "data": {
      "text/plain": [
       "{0, 2, 3, 4, 5, 7, 8}"
      ]
     },
     "execution_count": 24,
     "metadata": {},
     "output_type": "execute_result"
    }
   ],
   "source": [
    "s4"
   ]
  },
  {
   "cell_type": "code",
   "execution_count": 25,
   "id": "8b9bdb65-f127-4d01-987c-de7794e3447f",
   "metadata": {},
   "outputs": [],
   "source": [
    "l6=[7,8,8,9,9,5,5,'Sudh','sudh']"
   ]
  },
  {
   "cell_type": "code",
   "execution_count": 26,
   "id": "5a8ca30e-3d05-4dd6-8f65-7cc6d955305f",
   "metadata": {},
   "outputs": [
    {
     "ename": "AttributeError",
     "evalue": "'list' object has no attribute 'upper'",
     "output_type": "error",
     "traceback": [
      "\u001b[0;31m---------------------------------------------------------------------------\u001b[0m",
      "\u001b[0;31mAttributeError\u001b[0m                            Traceback (most recent call last)",
      "Cell \u001b[0;32mIn[26], line 1\u001b[0m\n\u001b[0;32m----> 1\u001b[0m \u001b[43ml6\u001b[49m\u001b[38;5;241;43m.\u001b[39;49m\u001b[43mupper\u001b[49m()\n",
      "\u001b[0;31mAttributeError\u001b[0m: 'list' object has no attribute 'upper'"
     ]
    }
   ],
   "source": [
    "l6.upper()"
   ]
  },
  {
   "cell_type": "code",
   "execution_count": 28,
   "id": "5fb1b28e-6e3a-4799-b864-4a9c6a17a30a",
   "metadata": {},
   "outputs": [],
   "source": [
    "l6=set(l6)"
   ]
  },
  {
   "cell_type": "code",
   "execution_count": 29,
   "id": "df7fd233-3ce2-45af-86ed-06f30eff8f93",
   "metadata": {},
   "outputs": [
    {
     "data": {
      "text/plain": [
       "{5, 7, 8, 9, 'Sudh', 'sudh'}"
      ]
     },
     "execution_count": 29,
     "metadata": {},
     "output_type": "execute_result"
    }
   ],
   "source": [
    "l6"
   ]
  },
  {
   "cell_type": "code",
   "execution_count": 30,
   "id": "d54b78f9-dc33-41d2-b424-bee5f8fffd4f",
   "metadata": {},
   "outputs": [],
   "source": [
    "l6=list(set(l6))"
   ]
  },
  {
   "cell_type": "code",
   "execution_count": 31,
   "id": "384d8a53-9695-4216-8f64-a6073e5b3f9a",
   "metadata": {},
   "outputs": [
    {
     "data": {
      "text/plain": [
       "[7, 5, 'sudh', 'Sudh', 8, 9]"
      ]
     },
     "execution_count": 31,
     "metadata": {},
     "output_type": "execute_result"
    }
   ],
   "source": [
    "l6"
   ]
  },
  {
   "cell_type": "code",
   "execution_count": 32,
   "id": "1d0a0ece-5753-44e8-afd9-a4b73e641b64",
   "metadata": {},
   "outputs": [],
   "source": [
    "l7={2,4,3,3,35,56,6,77,7,8,8,8,8,9}"
   ]
  },
  {
   "cell_type": "code",
   "execution_count": 33,
   "id": "25e078e1-4215-4720-bbb3-2d3641f4d1a9",
   "metadata": {},
   "outputs": [
    {
     "data": {
      "text/plain": [
       "{2, 3, 4, 6, 7, 8, 9, 35, 56, 77}"
      ]
     },
     "execution_count": 33,
     "metadata": {},
     "output_type": "execute_result"
    }
   ],
   "source": [
    "l7"
   ]
  },
  {
   "cell_type": "code",
   "execution_count": 34,
   "id": "b5d79d94-f4f8-4256-8dbb-1352e2d69cf5",
   "metadata": {},
   "outputs": [],
   "source": [
    "l7.add(3)"
   ]
  },
  {
   "cell_type": "code",
   "execution_count": 35,
   "id": "4d733cbc-9848-45a1-8f3b-83b59103f395",
   "metadata": {},
   "outputs": [
    {
     "data": {
      "text/plain": [
       "{2, 3, 4, 6, 7, 8, 9, 35, 56, 77}"
      ]
     },
     "execution_count": 35,
     "metadata": {},
     "output_type": "execute_result"
    }
   ],
   "source": [
    "l7"
   ]
  },
  {
   "cell_type": "code",
   "execution_count": 36,
   "id": "09fc5146-e366-46c3-83f9-9dec48e808f5",
   "metadata": {},
   "outputs": [],
   "source": [
    "l7.add(10)"
   ]
  },
  {
   "cell_type": "code",
   "execution_count": 37,
   "id": "99fecec8-e64c-49cd-a7ef-85710d1381da",
   "metadata": {},
   "outputs": [
    {
     "data": {
      "text/plain": [
       "{2, 3, 4, 6, 7, 8, 9, 10, 35, 56, 77}"
      ]
     },
     "execution_count": 37,
     "metadata": {},
     "output_type": "execute_result"
    }
   ],
   "source": [
    "l7"
   ]
  },
  {
   "cell_type": "code",
   "execution_count": 38,
   "id": "430fcbce-fc1e-4dea-bca3-28bf96a0e4da",
   "metadata": {},
   "outputs": [],
   "source": [
    "l7.remove(10)"
   ]
  },
  {
   "cell_type": "code",
   "execution_count": 39,
   "id": "8230b375-dc1c-4806-8032-c07fd3d186fa",
   "metadata": {},
   "outputs": [
    {
     "data": {
      "text/plain": [
       "{2, 3, 4, 6, 7, 8, 9, 35, 56, 77}"
      ]
     },
     "execution_count": 39,
     "metadata": {},
     "output_type": "execute_result"
    }
   ],
   "source": [
    "l7"
   ]
  },
  {
   "cell_type": "code",
   "execution_count": 40,
   "id": "5cccda2b-95a1-47c5-9c27-61861a0c4492",
   "metadata": {},
   "outputs": [],
   "source": [
    "l8=list(l7)"
   ]
  },
  {
   "cell_type": "code",
   "execution_count": 41,
   "id": "bb330c56-344d-4281-b127-b8adb1710ca3",
   "metadata": {},
   "outputs": [
    {
     "data": {
      "text/plain": [
       "[2, 3, 35, 4, 6, 7, 8, 9, 77, 56]"
      ]
     },
     "execution_count": 41,
     "metadata": {},
     "output_type": "execute_result"
    }
   ],
   "source": [
    "l8"
   ]
  },
  {
   "cell_type": "code",
   "execution_count": 42,
   "id": "f4bbf2d9-fe02-463c-bcca-77f3b6ec9466",
   "metadata": {},
   "outputs": [],
   "source": [
    "l8.sort()"
   ]
  },
  {
   "cell_type": "code",
   "execution_count": 43,
   "id": "adafb560-f396-4522-8c94-5d67712caebc",
   "metadata": {},
   "outputs": [
    {
     "data": {
      "text/plain": [
       "[2, 3, 4, 6, 7, 8, 9, 35, 56, 77]"
      ]
     },
     "execution_count": 43,
     "metadata": {},
     "output_type": "execute_result"
    }
   ],
   "source": [
    "l8"
   ]
  },
  {
   "cell_type": "code",
   "execution_count": null,
   "id": "52841c5a-4e18-4cf6-95ec-d76cfa51cb8c",
   "metadata": {},
   "outputs": [],
   "source": []
  }
 ],
 "metadata": {
  "kernelspec": {
   "display_name": "Python 3 (ipykernel)",
   "language": "python",
   "name": "python3"
  },
  "language_info": {
   "codemirror_mode": {
    "name": "ipython",
    "version": 3
   },
   "file_extension": ".py",
   "mimetype": "text/x-python",
   "name": "python",
   "nbconvert_exporter": "python",
   "pygments_lexer": "ipython3",
   "version": "3.10.8"
  }
 },
 "nbformat": 4,
 "nbformat_minor": 5
}
